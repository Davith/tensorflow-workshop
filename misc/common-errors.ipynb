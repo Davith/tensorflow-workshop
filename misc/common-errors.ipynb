{
 "cells": [
  {
   "cell_type": "code",
   "execution_count": null,
   "metadata": {
    "collapsed": true,
    "deletable": true,
    "editable": true
   },
   "outputs": [],
   "source": [
    "# General tips for debugging:\n",
    "#  1) Find the line on which the error occurred. Use ctrl-f\n",
    "#     to search the error message for the word \"traceback\"\n",
    "#     and look for familiar code.\n",
    "#  2) Comment out lines of code to make sure that the error\n",
    "#     is happening where you think it is. In other words,\n",
    "#     try to isolate the problem\n",
    "#  3) Read the error message! The relevant one is usually at\n",
    "#     the bottom of the error message."
   ]
  },
  {
   "cell_type": "code",
   "execution_count": null,
   "metadata": {
    "collapsed": false,
    "deletable": true,
    "editable": true
   },
   "outputs": [],
   "source": [
    "# Missing feed_dict.\n",
    "\n",
    "import tensorflow as tf\n",
    "\n",
    "x = tf.placeholder(dtype=tf.float32)\n",
    "y = x\n",
    "\n",
    "with tf.Session() as sess:\n",
    "    z = sess.run(y)\n",
    "    # should be\n",
    "    # z = sess.run(y, feed_dict={x: 10})\n",
    "    print(z)\n",
    "    \n",
    "# Error:\n",
    "# InvalidArgumentError (see above for traceback): You must feed\n",
    "# a value for placeholder tensor 'Placeholder' with dtype float\n",
    "\n",
    "# Solution:\n",
    "# Add feed_dict to your call to sess.run() or tensor.eval()    \n",
    "    "
   ]
  },
  {
   "cell_type": "code",
   "execution_count": null,
   "metadata": {
    "collapsed": false,
    "deletable": true,
    "editable": true
   },
   "outputs": [],
   "source": [
    "# Uninitialized variable.\n",
    "\n",
    "import tensorflow as tf\n",
    "\n",
    "x = tf.Variable(10)\n",
    "\n",
    "with tf.Session() as sess:\n",
    "    # sess.run(tf.global_variables_initializer())\n",
    "    sess.run(x)\n",
    "    \n",
    "# Error:\n",
    "# FailedPreconditionError: Attempting to use uninitialized \n",
    "# value Variable\n",
    "\n",
    "# Solution:\n",
    "# Run global_variables_initializer() in order to initialize\n",
    "# all variables.\n",
    "# https://www.tensorflow.org/api_docs/python/tf/global_variables_initializer"
   ]
  },
  {
   "cell_type": "code",
   "execution_count": null,
   "metadata": {
    "collapsed": false,
    "deletable": true,
    "editable": true
   },
   "outputs": [],
   "source": [
    "# type mistmatch - float vs int\n",
    "\n",
    "import tensorflow as tf\n",
    "\n",
    "x = tf.constant(5.9)\n",
    "y = tf.constant(3)\n",
    "z = x * y\n",
    "\n",
    "# Error:\n",
    "# ValueError: Tensor conversion requested dtype float32 for Tensor with dtype int32\n",
    "\n",
    "# Solution:\n",
    "# You are trying to perform an operation between a float (5.9) and an int (3). You can\n",
    "# either use dtype argument (dtype=tf.float32) or just change 3 to 3.0 to make sure\n",
    "# it's interpreted as a float.\n"
   ]
  },
  {
   "cell_type": "code",
   "execution_count": null,
   "metadata": {
    "collapsed": false,
    "deletable": true,
    "editable": true
   },
   "outputs": [],
   "source": [
    "# tensorflow has not been imported\n",
    "\n",
    "x = tf.constant(10)\n",
    "\n",
    "# Error:\n",
    "# NameError: name 'tf' is not defined\n",
    "\n",
    "# Solution:\n",
    "# Use \"import tensorflow as tf\" to import the tensorflow library before\n",
    "# attempting to use a feature of the library."
   ]
  },
  {
   "cell_type": "code",
   "execution_count": null,
   "metadata": {
    "collapsed": true,
    "deletable": true,
    "editable": true
   },
   "outputs": [],
   "source": []
  }
 ],
 "metadata": {
  "kernelspec": {
   "display_name": "Python 3",
   "language": "python",
   "name": "python3"
  },
  "language_info": {
   "codemirror_mode": {
    "name": "ipython",
    "version": 3
   },
   "file_extension": ".py",
   "mimetype": "text/x-python",
   "name": "python",
   "nbconvert_exporter": "python",
   "pygments_lexer": "ipython3",
   "version": "3.4.3"
  }
 },
 "nbformat": 4,
 "nbformat_minor": 2
}
