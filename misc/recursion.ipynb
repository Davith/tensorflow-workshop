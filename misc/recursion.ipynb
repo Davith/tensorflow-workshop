{
 "cells": [
  {
   "cell_type": "code",
   "execution_count": null,
   "metadata": {
    "collapsed": true,
    "deletable": true,
    "editable": true
   },
   "outputs": [],
   "source": [
    "# Factorial function.\n",
    "# !4 = 4 * 3 * 2 * 1 = 24\n",
    "\n",
    "# In both solutions below, assume that the input\n",
    "# to the function is a non-negative integer."
   ]
  },
  {
   "cell_type": "code",
   "execution_count": null,
   "metadata": {
    "collapsed": false,
    "deletable": true,
    "editable": true
   },
   "outputs": [],
   "source": [
    "# Iterative solution.\n",
    "def factorial(x):\n",
    "    # Check that the input is an integer.\n",
    "    assert isinstance(x, int), '{} must be an integer.'.format(x)\n",
    "    y = 1\n",
    "    # The range function has inclusive start,\n",
    "    # but exclusive end, so we use x+1 for end.\n",
    "    for i in range(1,x+1):\n",
    "        y *= i\n",
    "    print(y)\n",
    "    \n",
    "factorial(5)\n"
   ]
  },
  {
   "cell_type": "code",
   "execution_count": null,
   "metadata": {
    "collapsed": false,
    "deletable": true,
    "editable": true
   },
   "outputs": [],
   "source": [
    "# Recursive solution.\n",
    "def factorial(x):\n",
    "    # Check that the input is an integer.\n",
    "    assert isinstance(x, int), '{} must be an integer.'.format(x)\n",
    "    \n",
    "    # Define base case(s).\n",
    "    if x == 0 or x == 1:\n",
    "        return 1\n",
    "    # Make recursive call.\n",
    "    else:\n",
    "        return x * factorial(x-1)\n",
    "    \n",
    "factorial(5)"
   ]
  },
  {
   "cell_type": "code",
   "execution_count": null,
   "metadata": {
    "collapsed": false,
    "deletable": true,
    "editable": true
   },
   "outputs": [],
   "source": [
    "def hanoi_towers(disk, src_tower, open_tower, dest_tower):\n",
    "    if disk == 1:\n",
    "        print('move disk {} from tower {} to tower {}'.format(1, src_tower, dest_tower))\n",
    "    elif disk == 2:\n",
    "        print('move disk {} from tower {} to tower {}'.format(1, src_tower, open_tower))\n",
    "        print('move disk {} from tower {} to tower {}'.format(2, src_tower, dest_tower))\n",
    "        print('move disk {} from tower {} to tower {}'.format(1, open_tower, dest_tower))\n",
    "    else:\n",
    "        hanoi_towers(disk - 1, src_tower, dest_tower, open_tower)\n",
    "        print('move disk {} from tower {} to tower {}'.format(disk, src_tower, dest_tower))\n",
    "        hanoi_towers(disk - 1, open_tower, src_tower, dest_tower)\n",
    "        \n",
    "hanoi_towers(5, 1, 2, 3)\n",
    "        "
   ]
  },
  {
   "cell_type": "code",
   "execution_count": null,
   "metadata": {
    "collapsed": true,
    "deletable": true,
    "editable": true
   },
   "outputs": [],
   "source": []
  }
 ],
 "metadata": {
  "kernelspec": {
   "display_name": "Python 3",
   "language": "python",
   "name": "python3"
  },
  "language_info": {
   "codemirror_mode": {
    "name": "ipython",
    "version": 3
   },
   "file_extension": ".py",
   "mimetype": "text/x-python",
   "name": "python",
   "nbconvert_exporter": "python",
   "pygments_lexer": "ipython3",
   "version": "3.4.3"
  }
 },
 "nbformat": 4,
 "nbformat_minor": 2
}
