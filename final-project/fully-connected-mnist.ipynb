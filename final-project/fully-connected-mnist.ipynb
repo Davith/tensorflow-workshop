{
 "cells": [
  {
   "cell_type": "code",
   "execution_count": 1,
   "metadata": {
    "collapsed": false,
    "deletable": true,
    "editable": true
   },
   "outputs": [
    {
     "name": "stdout",
     "output_type": "stream",
     "text": [
      "Extracting MNIST_data/train-images-idx3-ubyte.gz\n",
      "Extracting MNIST_data/train-labels-idx1-ubyte.gz\n",
      "Extracting MNIST_data/t10k-images-idx3-ubyte.gz\n",
      "Extracting MNIST_data/t10k-labels-idx1-ubyte.gz\n",
      "0.8772\n"
     ]
    }
   ],
   "source": [
    "import tensorflow as tf\n",
    "from tensorflow.examples.tutorials.mnist import input_data\n",
    "\n",
    "# Download and extract MNIST data. The downloading only \n",
    "# happens the first time this is run.\n",
    "mnist = input_data.read_data_sets(\"MNIST_data/\", one_hot=True)\n",
    "\n",
    "# Look at the shapes of the train and test datasets.\n",
    "print(mnist.train.images.shape)\n",
    "print(mnist.train.labels.shape)\n",
    "\n",
    "print(mnist.test.images.shape)\n",
    "print(mnist.test.labels.shape)\n",
    "\n",
    "# Define the input and output placeholders.\n",
    "input = tf.placeholder(tf.float32, shape=[None, 784])\n",
    "output_ = tf.placeholder(tf.float32, shape=[None, 10])\n",
    "\n",
    "# Define the variables for our model.\n",
    "weights = tf.Variable(tf.random_normal([784, 10]))\n",
    "bias = tf.Variable(tf.random_normal([1,10]))\n",
    "\n",
    "# Define our model.\n",
    "predicted = tf.matmul(input, weights) + bias\n",
    "\n",
    "# Define the loss function.\n",
    "loss = tf.nn.softmax_cross_entropy_with_logits(labels = output_, \n",
    "                                               logits = predicted)\n",
    "\n",
    "# Define the training step.\n",
    "train_step = tf.train.GradientDescentOptimizer(learning_rate=0.1).minimize(loss)\n",
    "\n",
    "with tf.Session() as session:\n",
    "    # Initialize all variables.\n",
    "    session.run(tf.global_variables_initializer())\n",
    "    # Run 550 iterations of training, using 100 examples on each iteration.\n",
    "    for i in range(550):\n",
    "        images, labels = mnist.train.next_batch(100)\n",
    "        session.run(train_step, feed_dict = {input: images, output_: labels})\n",
    "        \n",
    "    # Compute the accuracy of our predictions.\n",
    "    equal = tf.equal(tf.argmax(predicted, 1), tf.argmax(output_, 1))\n",
    "    accuracy = tf.reduce_mean(tf.cast(equal, tf.float32))\n",
    "    print(session.run(accuracy, feed_dict = {input: mnist.test.images, \n",
    "                                             output_: mnist.test.labels}))\n",
    "    \n",
    "    \n",
    "    "
   ]
  },
  {
   "cell_type": "code",
   "execution_count": null,
   "metadata": {
    "collapsed": true,
    "deletable": true,
    "editable": true
   },
   "outputs": [],
   "source": []
  }
 ],
 "metadata": {
  "kernelspec": {
   "display_name": "Python 3",
   "language": "python",
   "name": "python3"
  },
  "language_info": {
   "codemirror_mode": {
    "name": "ipython",
    "version": 3
   },
   "file_extension": ".py",
   "mimetype": "text/x-python",
   "name": "python",
   "nbconvert_exporter": "python",
   "pygments_lexer": "ipython3",
   "version": "3.4.3"
  }
 },
 "nbformat": 4,
 "nbformat_minor": 2
}
